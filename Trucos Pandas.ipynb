{
 "cells": [
  {
   "cell_type": "markdown",
   "id": "known-carrier",
   "metadata": {},
   "source": [
    "URL:\n",
    "\n",
    "https://jahazielponce.com/trucos-pandas-dataframe"
   ]
  },
  {
   "cell_type": "markdown",
   "id": "religious-prime",
   "metadata": {},
   "source": [
    "## Leyendo un CSV"
   ]
  },
  {
   "cell_type": "code",
   "execution_count": 1,
   "id": "rural-heavy",
   "metadata": {},
   "outputs": [],
   "source": [
    "import gc"
   ]
  },
  {
   "cell_type": "code",
   "execution_count": 2,
   "id": "initial-artist",
   "metadata": {},
   "outputs": [],
   "source": [
    "csv_FILENAME = 'D:/10_PUBLICACIONES/publicaciones/Trucos_pandas/train.csv'"
   ]
  },
  {
   "cell_type": "code",
   "execution_count": 3,
   "id": "constitutional-muscle",
   "metadata": {},
   "outputs": [],
   "source": [
    "import pandas as pd"
   ]
  },
  {
   "cell_type": "code",
   "execution_count": 4,
   "id": "injured-wealth",
   "metadata": {},
   "outputs": [
    {
     "name": "stdout",
     "output_type": "stream",
     "text": [
      "Wall time: 28.1 s\n"
     ]
    }
   ],
   "source": [
    "%%time\n",
    "pandas_df = pd.read_csv(csv_FILENAME)"
   ]
  },
  {
   "cell_type": "code",
   "execution_count": 5,
   "id": "certain-conditions",
   "metadata": {},
   "outputs": [
    {
     "data": {
      "text/html": [
       "<style type='text/css'>\n",
       ".datatable table.frame { margin-bottom: 0; }\n",
       ".datatable table.frame thead { border-bottom: none; }\n",
       ".datatable table.frame tr.coltypes td {  color: #FFFFFF;  line-height: 6px;  padding: 0 0.5em;}\n",
       ".datatable .bool    { background: #DDDD99; }\n",
       ".datatable .object  { background: #565656; }\n",
       ".datatable .int     { background: #5D9E5D; }\n",
       ".datatable .float   { background: #4040CC; }\n",
       ".datatable .str     { background: #CC4040; }\n",
       ".datatable .time    { background: #40CC40; }\n",
       ".datatable .row_index {  background: var(--jp-border-color3);  border-right: 1px solid var(--jp-border-color0);  color: var(--jp-ui-font-color3);  font-size: 9px;}\n",
       ".datatable .frame tbody td { text-align: left; }\n",
       ".datatable .frame tr.coltypes .row_index {  background: var(--jp-border-color0);}\n",
       ".datatable th:nth-child(2) { padding-left: 12px; }\n",
       ".datatable .hellipsis {  color: var(--jp-cell-editor-border-color);}\n",
       ".datatable .vellipsis {  background: var(--jp-layout-color0);  color: var(--jp-cell-editor-border-color);}\n",
       ".datatable .na {  color: var(--jp-cell-editor-border-color);  font-size: 80%;}\n",
       ".datatable .sp {  opacity: 0.25;}\n",
       ".datatable .footer { font-size: 9px; }\n",
       ".datatable .frame_dimensions {  background: var(--jp-border-color3);  border-top: 1px solid var(--jp-border-color0);  color: var(--jp-ui-font-color3);  display: inline-block;  opacity: 0.6;  padding: 1px 10px 1px 5px;}\n",
       "</style>\n"
      ],
      "text/plain": [
       "<IPython.core.display.HTML object>"
      ]
     },
     "metadata": {},
     "output_type": "display_data"
    },
    {
     "name": "stderr",
     "output_type": "stream",
     "text": [
      "C:\\Users\\jahaz\\.conda\\envs\\jps_ml_models\\lib\\importlib\\_bootstrap.py:219: RuntimeWarning: greenlet.greenlet size changed, may indicate binary incompatibility. Expected 144 from C header, got 152 from PyObject\n",
      "  return f(*args, **kwds)\n",
      "C:\\Users\\jahaz\\.conda\\envs\\jps_ml_models\\lib\\importlib\\_bootstrap.py:219: RuntimeWarning: greenlet.greenlet size changed, may indicate binary incompatibility. Expected 144 from C header, got 152 from PyObject\n",
      "  return f(*args, **kwds)\n",
      "C:\\Users\\jahaz\\.conda\\envs\\jps_ml_models\\lib\\importlib\\_bootstrap.py:219: RuntimeWarning: greenlet.greenlet size changed, may indicate binary incompatibility. Expected 144 from C header, got 152 from PyObject\n",
      "  return f(*args, **kwds)\n",
      "C:\\Users\\jahaz\\.conda\\envs\\jps_ml_models\\lib\\importlib\\_bootstrap.py:219: RuntimeWarning: greenlet.greenlet size changed, may indicate binary incompatibility. Expected 144 from C header, got 152 from PyObject\n",
      "  return f(*args, **kwds)\n"
     ]
    }
   ],
   "source": [
    "import datatable as dt\n",
    "import dask.dataframe as dd\n",
    "import vaex"
   ]
  },
  {
   "cell_type": "code",
   "execution_count": 6,
   "id": "worldwide-craft",
   "metadata": {},
   "outputs": [
    {
     "name": "stdout",
     "output_type": "stream",
     "text": [
      "Wall time: 1.98 s\n"
     ]
    }
   ],
   "source": [
    "%%time\n",
    "datatable_df = dt.fread(csv_FILENAME).to_pandas()"
   ]
  },
  {
   "cell_type": "code",
   "execution_count": 7,
   "id": "bored-drain",
   "metadata": {},
   "outputs": [
    {
     "name": "stdout",
     "output_type": "stream",
     "text": [
      "Wall time: 12.2 s\n"
     ]
    }
   ],
   "source": [
    "%%time\n",
    "dask_df = dd.read_csv(csv_FILENAME).compute()"
   ]
  },
  {
   "cell_type": "code",
   "execution_count": 8,
   "id": "conditional-questionnaire",
   "metadata": {},
   "outputs": [
    {
     "name": "stdout",
     "output_type": "stream",
     "text": [
      "Wall time: 30.5 s\n"
     ]
    }
   ],
   "source": [
    "%%time\n",
    "vaex_df = vaex.from_csv(csv_FILENAME).to_pandas_df()"
   ]
  },
  {
   "cell_type": "code",
   "execution_count": 9,
   "id": "possible-carol",
   "metadata": {},
   "outputs": [
    {
     "data": {
      "text/plain": [
       "570"
      ]
     },
     "execution_count": 9,
     "metadata": {},
     "output_type": "execute_result"
    }
   ],
   "source": [
    "del datatable_df\n",
    "gc.collect()"
   ]
  },
  {
   "cell_type": "code",
   "execution_count": 10,
   "id": "tropical-memory",
   "metadata": {},
   "outputs": [
    {
     "data": {
      "text/plain": [
       "20"
      ]
     },
     "execution_count": 10,
     "metadata": {},
     "output_type": "execute_result"
    }
   ],
   "source": [
    "del dask_df\n",
    "gc.collect()"
   ]
  },
  {
   "cell_type": "code",
   "execution_count": 11,
   "id": "collected-wesley",
   "metadata": {},
   "outputs": [
    {
     "data": {
      "text/plain": [
       "20"
      ]
     },
     "execution_count": 11,
     "metadata": {},
     "output_type": "execute_result"
    }
   ],
   "source": [
    "del vaex_df\n",
    "gc.collect()"
   ]
  },
  {
   "cell_type": "markdown",
   "id": "unique-brand",
   "metadata": {},
   "source": [
    "## Método Apply"
   ]
  },
  {
   "cell_type": "code",
   "execution_count": 12,
   "id": "stuffed-rover",
   "metadata": {},
   "outputs": [],
   "source": [
    "import numpy as np"
   ]
  },
  {
   "cell_type": "code",
   "execution_count": 13,
   "id": "binary-support",
   "metadata": {},
   "outputs": [],
   "source": [
    "def genera_variables(col1, col2, col3, col4):\n",
    "    return np.log1p((col1 + col3) ** 2 / np.sqrt(np.abs(col2) + np.abs(col4)))"
   ]
  },
  {
   "cell_type": "code",
   "execution_count": 14,
   "id": "recognized-webster",
   "metadata": {},
   "outputs": [
    {
     "name": "stdout",
     "output_type": "stream",
     "text": [
      "Wall time: 52.6 s\n"
     ]
    }
   ],
   "source": [
    "%%time\n",
    "pandas_df['nueva_variable'] = pandas_df.apply(\n",
    "    lambda row: genera_variables(\n",
    "        row['f1'], \n",
    "        row['f2'], \n",
    "        row['f3'], \n",
    "        row['f4']\n",
    "    ), \n",
    "    axis=1\n",
    ")"
   ]
  },
  {
   "cell_type": "code",
   "execution_count": 15,
   "id": "bound-privacy",
   "metadata": {},
   "outputs": [
    {
     "name": "stdout",
     "output_type": "stream",
     "text": [
      "Wall time: 101 ms\n"
     ]
    }
   ],
   "source": [
    "%%time\n",
    "pandas_df['nueva_variable_np'] = genera_variables(pandas_df['f1'].values,\n",
    "                                                  pandas_df['f2'].values,\n",
    "                                                  pandas_df['f3'].values,\n",
    "                                                  pandas_df['f4'].values)"
   ]
  },
  {
   "cell_type": "code",
   "execution_count": 16,
   "id": "advanced-viewer",
   "metadata": {},
   "outputs": [
    {
     "name": "stdout",
     "output_type": "stream",
     "text": [
      "Wall time: 12.9 s\n"
     ]
    }
   ],
   "source": [
    "%%time\n",
    "pandas_df['nueva_variable_list'] = [genera_variables(f1, f2, f3, f4) for (f1, f2, f3, f4) in zip(pandas_df['f1'],\n",
    "                                                                                                 pandas_df['f2'],\n",
    "                                                                                                 pandas_df['f3'],\n",
    "                                                                                                 pandas_df['f4'])]"
   ]
  },
  {
   "cell_type": "code",
   "execution_count": null,
   "id": "latest-provision",
   "metadata": {},
   "outputs": [],
   "source": []
  },
  {
   "cell_type": "code",
   "execution_count": 17,
   "id": "according-natural",
   "metadata": {},
   "outputs": [
    {
     "data": {
      "text/plain": [
       "1.2274606978527784"
      ]
     },
     "execution_count": 17,
     "metadata": {},
     "output_type": "execute_result"
    }
   ],
   "source": [
    "pandas_df[pandas_df['nueva_variable'] != pandas_df['nueva_variable_np']][['nueva_variable', 'nueva_variable_np']].iloc[0, 0]"
   ]
  },
  {
   "cell_type": "code",
   "execution_count": 18,
   "id": "hungry-guinea",
   "metadata": {},
   "outputs": [
    {
     "data": {
      "text/plain": [
       "1.2274606978527787"
      ]
     },
     "execution_count": 18,
     "metadata": {},
     "output_type": "execute_result"
    }
   ],
   "source": [
    "pandas_df[pandas_df['nueva_variable'] != pandas_df['nueva_variable_np']][['nueva_variable', 'nueva_variable_np']].iloc[0, 1]"
   ]
  },
  {
   "cell_type": "code",
   "execution_count": null,
   "id": "organizational-thesis",
   "metadata": {},
   "outputs": [],
   "source": []
  },
  {
   "cell_type": "code",
   "execution_count": 19,
   "id": "written-thousand",
   "metadata": {},
   "outputs": [
    {
     "data": {
      "text/plain": [
       "0"
      ]
     },
     "execution_count": 19,
     "metadata": {},
     "output_type": "execute_result"
    }
   ],
   "source": [
    "(pandas_df['nueva_variable'] != pandas_df['nueva_variable_list']).sum()"
   ]
  },
  {
   "cell_type": "markdown",
   "id": "female-dealer",
   "metadata": {},
   "source": [
    "## Optimización de memoria"
   ]
  },
  {
   "cell_type": "code",
   "execution_count": 20,
   "id": "saving-three",
   "metadata": {},
   "outputs": [],
   "source": [
    "def reduciendo_uso_memoria(df: pd.DataFrame, verbose: bool = True) -> pd.DataFrame:\n",
    "    DICT_TIPO_INT = {\n",
    "        \"int8\": [np.iinfo(np.int8).min, np.iinfo(np.int8).max],\n",
    "        \"int16\": [np.iinfo(np.int16).min, np.iinfo(np.int16).max],\n",
    "        \"int32\": [np.iinfo(np.int32).min, np.iinfo(np.int32).max],\n",
    "        \"int64\": [np.iinfo(np.int64).min, np.iinfo(np.int64).max]\n",
    "    }\n",
    "    DICT_TIPO_FLOAT = {\n",
    "        \"float16\": [np.finfo(np.float16).min, np.finfo(np.float16).max],\n",
    "        \"float32\": [np.finfo(np.float32).min, np.finfo(np.float32).max]\n",
    "    }\n",
    "    \n",
    "    LIST_TYPES = list(DICT_TIPO_INT.keys()) + list(DICT_TIPO_FLOAT.keys()) + ['float64']\n",
    "    \n",
    "    memoria_inicial = df.memory_usage().sum() / 1024 ** 2\n",
    "    \n",
    "    for col in df.columns:\n",
    "        col_type = df[col].dtypes\n",
    "        \n",
    "        if col_type not in LIST_TYPES:\n",
    "            continue\n",
    "        \n",
    "        c_min, c_max = df[col].min(), df[col].max()\n",
    "        \n",
    "        if str(col_type)[:3] == \"int\":\n",
    "            if c_min > DICT_TIPO_INT[\"int8\"][0] and c_max < DICT_TIPO_INT[\"int8\"][1]:\n",
    "                df[col] = df[col].astype(np.int8)\n",
    "            elif c_min > DICT_TIPO_INT[\"int16\"][0] and c_max < DICT_TIPO_INT[\"int16\"][1]:\n",
    "                df[col] = df[col].astype(np.int16)\n",
    "            elif c_min > DICT_TIPO_INT[\"int32\"][0] and c_max < DICT_TIPO_INT[\"int32\"][1]:\n",
    "                df[col] = df[col].astype(np.int32)\n",
    "            elif c_min > DICT_TIPO_INT[\"int64\"][0] and c_max < DICT_TIPO_INT[\"int64\"][1]:\n",
    "                df[col] = df[col].astype(np.int64)\n",
    "        else:\n",
    "            if c_min > DICT_TIPO_FLOAT[\"float16\"][0] and c_max < DICT_TIPO_FLOAT[\"float16\"][1]:\n",
    "                df[col] = df[col].astype(np.float16)\n",
    "            elif c_min > DICT_TIPO_FLOAT[\"float32\"][0] and c_max < DICT_TIPO_FLOAT[\"float32\"][1]:\n",
    "                df[col] = df[col].astype(np.float32)\n",
    "            else:\n",
    "                df[col] = df[col].astype(np.float64)\n",
    "    memoria_final = df.memory_usage().sum() / 1024 ** 2\n",
    "    \n",
    "    if verbose:\n",
    "        print(\"Uso de memoria reducido a {:.2f} Mb (reducción {:.1f}%)\".format(\n",
    "            memoria_final, 100 * (memoria_inicial - memoria_final) / memoria_inicial\n",
    "        )\n",
    "             )\n",
    "    return df"
   ]
  },
  {
   "cell_type": "code",
   "execution_count": 21,
   "id": "appropriate-syndicate",
   "metadata": {
    "scrolled": false
   },
   "outputs": [
    {
     "name": "stdout",
     "output_type": "stream",
     "text": [
      "Uso de memoria reducido a 615.12 Mb (reducción 74.6%)\n"
     ]
    },
    {
     "data": {
      "text/html": [
       "<div>\n",
       "<style scoped>\n",
       "    .dataframe tbody tr th:only-of-type {\n",
       "        vertical-align: middle;\n",
       "    }\n",
       "\n",
       "    .dataframe tbody tr th {\n",
       "        vertical-align: top;\n",
       "    }\n",
       "\n",
       "    .dataframe thead th {\n",
       "        text-align: right;\n",
       "    }\n",
       "</style>\n",
       "<table border=\"1\" class=\"dataframe\">\n",
       "  <thead>\n",
       "    <tr style=\"text-align: right;\">\n",
       "      <th></th>\n",
       "      <th>Unnamed: 0</th>\n",
       "      <th>id</th>\n",
       "      <th>f0</th>\n",
       "      <th>f1</th>\n",
       "      <th>f2</th>\n",
       "      <th>f3</th>\n",
       "      <th>f4</th>\n",
       "      <th>f5</th>\n",
       "      <th>f6</th>\n",
       "      <th>f7</th>\n",
       "      <th>...</th>\n",
       "      <th>f94</th>\n",
       "      <th>f95</th>\n",
       "      <th>f96</th>\n",
       "      <th>f97</th>\n",
       "      <th>f98</th>\n",
       "      <th>f99</th>\n",
       "      <th>target</th>\n",
       "      <th>nueva_variable</th>\n",
       "      <th>nueva_variable_np</th>\n",
       "      <th>nueva_variable_list</th>\n",
       "    </tr>\n",
       "  </thead>\n",
       "  <tbody>\n",
       "    <tr>\n",
       "      <th>0</th>\n",
       "      <td>0</td>\n",
       "      <td>0</td>\n",
       "      <td>0.106628</td>\n",
       "      <td>3.593750</td>\n",
       "      <td>132.7500</td>\n",
       "      <td>3.183594</td>\n",
       "      <td>0.081970</td>\n",
       "      <td>1.188477</td>\n",
       "      <td>3.732422</td>\n",
       "      <td>2.265625</td>\n",
       "      <td>...</td>\n",
       "      <td>0.052765</td>\n",
       "      <td>0.065430</td>\n",
       "      <td>4.210938</td>\n",
       "      <td>1.978516</td>\n",
       "      <td>0.085999</td>\n",
       "      <td>0.240479</td>\n",
       "      <td>0</td>\n",
       "      <td>1.606445</td>\n",
       "      <td>1.606445</td>\n",
       "      <td>1.606445</td>\n",
       "    </tr>\n",
       "    <tr>\n",
       "      <th>1</th>\n",
       "      <td>1</td>\n",
       "      <td>1</td>\n",
       "      <td>0.125000</td>\n",
       "      <td>1.673828</td>\n",
       "      <td>76.5625</td>\n",
       "      <td>3.378906</td>\n",
       "      <td>0.099426</td>\n",
       "      <td>5.093750</td>\n",
       "      <td>1.275391</td>\n",
       "      <td>-0.471436</td>\n",
       "      <td>...</td>\n",
       "      <td>0.154053</td>\n",
       "      <td>0.606934</td>\n",
       "      <td>-0.267822</td>\n",
       "      <td>2.578125</td>\n",
       "      <td>-0.020874</td>\n",
       "      <td>0.024719</td>\n",
       "      <td>0</td>\n",
       "      <td>1.365234</td>\n",
       "      <td>1.365234</td>\n",
       "      <td>1.365234</td>\n",
       "    </tr>\n",
       "    <tr>\n",
       "      <th>2</th>\n",
       "      <td>2</td>\n",
       "      <td>2</td>\n",
       "      <td>0.036316</td>\n",
       "      <td>1.497070</td>\n",
       "      <td>233.5000</td>\n",
       "      <td>2.195312</td>\n",
       "      <td>0.026917</td>\n",
       "      <td>3.126953</td>\n",
       "      <td>5.058594</td>\n",
       "      <td>3.849609</td>\n",
       "      <td>...</td>\n",
       "      <td>0.116089</td>\n",
       "      <td>-0.001689</td>\n",
       "      <td>-0.520020</td>\n",
       "      <td>2.140625</td>\n",
       "      <td>0.124451</td>\n",
       "      <td>0.148193</td>\n",
       "      <td>0</td>\n",
       "      <td>0.637695</td>\n",
       "      <td>0.637695</td>\n",
       "      <td>0.637695</td>\n",
       "    </tr>\n",
       "    <tr>\n",
       "      <th>3</th>\n",
       "      <td>3</td>\n",
       "      <td>3</td>\n",
       "      <td>-0.014076</td>\n",
       "      <td>0.245972</td>\n",
       "      <td>780.0000</td>\n",
       "      <td>1.890625</td>\n",
       "      <td>0.006947</td>\n",
       "      <td>1.531250</td>\n",
       "      <td>2.697266</td>\n",
       "      <td>4.515625</td>\n",
       "      <td>...</td>\n",
       "      <td>0.062012</td>\n",
       "      <td>0.041199</td>\n",
       "      <td>0.511719</td>\n",
       "      <td>1.968750</td>\n",
       "      <td>0.040009</td>\n",
       "      <td>0.044861</td>\n",
       "      <td>0</td>\n",
       "      <td>0.151367</td>\n",
       "      <td>0.151367</td>\n",
       "      <td>0.151367</td>\n",
       "    </tr>\n",
       "    <tr>\n",
       "      <th>4</th>\n",
       "      <td>4</td>\n",
       "      <td>4</td>\n",
       "      <td>-0.003260</td>\n",
       "      <td>3.714844</td>\n",
       "      <td>156.1250</td>\n",
       "      <td>2.148438</td>\n",
       "      <td>0.018280</td>\n",
       "      <td>2.097656</td>\n",
       "      <td>4.156250</td>\n",
       "      <td>-0.038239</td>\n",
       "      <td>...</td>\n",
       "      <td>0.125122</td>\n",
       "      <td>0.037506</td>\n",
       "      <td>1.043945</td>\n",
       "      <td>1.075195</td>\n",
       "      <td>-0.012817</td>\n",
       "      <td>0.072815</td>\n",
       "      <td>1</td>\n",
       "      <td>1.322266</td>\n",
       "      <td>1.322266</td>\n",
       "      <td>1.322266</td>\n",
       "    </tr>\n",
       "    <tr>\n",
       "      <th>...</th>\n",
       "      <td>...</td>\n",
       "      <td>...</td>\n",
       "      <td>...</td>\n",
       "      <td>...</td>\n",
       "      <td>...</td>\n",
       "      <td>...</td>\n",
       "      <td>...</td>\n",
       "      <td>...</td>\n",
       "      <td>...</td>\n",
       "      <td>...</td>\n",
       "      <td>...</td>\n",
       "      <td>...</td>\n",
       "      <td>...</td>\n",
       "      <td>...</td>\n",
       "      <td>...</td>\n",
       "      <td>...</td>\n",
       "      <td>...</td>\n",
       "      <td>...</td>\n",
       "      <td>...</td>\n",
       "      <td>...</td>\n",
       "      <td>...</td>\n",
       "    </tr>\n",
       "    <tr>\n",
       "      <th>2999995</th>\n",
       "      <td>599995</td>\n",
       "      <td>599995</td>\n",
       "      <td>0.042999</td>\n",
       "      <td>1.640625</td>\n",
       "      <td>1376.0000</td>\n",
       "      <td>1.086914</td>\n",
       "      <td>0.839355</td>\n",
       "      <td>1.693359</td>\n",
       "      <td>3.843750</td>\n",
       "      <td>1.108398</td>\n",
       "      <td>...</td>\n",
       "      <td>0.225098</td>\n",
       "      <td>0.073181</td>\n",
       "      <td>4.437500</td>\n",
       "      <td>1.739258</td>\n",
       "      <td>0.049042</td>\n",
       "      <td>0.065796</td>\n",
       "      <td>1</td>\n",
       "      <td>0.182739</td>\n",
       "      <td>0.182739</td>\n",
       "      <td>0.182739</td>\n",
       "    </tr>\n",
       "    <tr>\n",
       "      <th>2999996</th>\n",
       "      <td>599996</td>\n",
       "      <td>599996</td>\n",
       "      <td>0.137085</td>\n",
       "      <td>4.828125</td>\n",
       "      <td>-99.6250</td>\n",
       "      <td>0.985352</td>\n",
       "      <td>0.037720</td>\n",
       "      <td>3.302734</td>\n",
       "      <td>2.472656</td>\n",
       "      <td>5.941406</td>\n",
       "      <td>...</td>\n",
       "      <td>0.234009</td>\n",
       "      <td>0.041382</td>\n",
       "      <td>3.873047</td>\n",
       "      <td>1.870117</td>\n",
       "      <td>0.162354</td>\n",
       "      <td>0.085632</td>\n",
       "      <td>0</td>\n",
       "      <td>1.477539</td>\n",
       "      <td>1.477539</td>\n",
       "      <td>1.477539</td>\n",
       "    </tr>\n",
       "    <tr>\n",
       "      <th>2999997</th>\n",
       "      <td>599997</td>\n",
       "      <td>599997</td>\n",
       "      <td>1.316406</td>\n",
       "      <td>0.501953</td>\n",
       "      <td>66.2500</td>\n",
       "      <td>2.232422</td>\n",
       "      <td>0.060028</td>\n",
       "      <td>3.773438</td>\n",
       "      <td>2.656250</td>\n",
       "      <td>3.156250</td>\n",
       "      <td>...</td>\n",
       "      <td>0.027466</td>\n",
       "      <td>0.061920</td>\n",
       "      <td>-0.383301</td>\n",
       "      <td>0.921875</td>\n",
       "      <td>0.084839</td>\n",
       "      <td>0.052643</td>\n",
       "      <td>0</td>\n",
       "      <td>0.651855</td>\n",
       "      <td>0.651855</td>\n",
       "      <td>0.651855</td>\n",
       "    </tr>\n",
       "    <tr>\n",
       "      <th>2999998</th>\n",
       "      <td>599998</td>\n",
       "      <td>599998</td>\n",
       "      <td>0.511719</td>\n",
       "      <td>3.828125</td>\n",
       "      <td>778.0000</td>\n",
       "      <td>0.285889</td>\n",
       "      <td>0.520020</td>\n",
       "      <td>2.763672</td>\n",
       "      <td>2.521484</td>\n",
       "      <td>1.561523</td>\n",
       "      <td>...</td>\n",
       "      <td>-0.038086</td>\n",
       "      <td>0.038818</td>\n",
       "      <td>-0.122864</td>\n",
       "      <td>3.107422</td>\n",
       "      <td>0.061340</td>\n",
       "      <td>0.004177</td>\n",
       "      <td>1</td>\n",
       "      <td>0.474121</td>\n",
       "      <td>0.474121</td>\n",
       "      <td>0.474121</td>\n",
       "    </tr>\n",
       "    <tr>\n",
       "      <th>2999999</th>\n",
       "      <td>599999</td>\n",
       "      <td>599999</td>\n",
       "      <td>0.179321</td>\n",
       "      <td>3.457031</td>\n",
       "      <td>160.6250</td>\n",
       "      <td>3.296875</td>\n",
       "      <td>0.102783</td>\n",
       "      <td>1.894531</td>\n",
       "      <td>0.057861</td>\n",
       "      <td>2.074219</td>\n",
       "      <td>...</td>\n",
       "      <td>1.059570</td>\n",
       "      <td>0.007641</td>\n",
       "      <td>3.732422</td>\n",
       "      <td>1.964844</td>\n",
       "      <td>0.049072</td>\n",
       "      <td>0.044434</td>\n",
       "      <td>1</td>\n",
       "      <td>1.526367</td>\n",
       "      <td>1.526367</td>\n",
       "      <td>1.526367</td>\n",
       "    </tr>\n",
       "  </tbody>\n",
       "</table>\n",
       "<p>3000000 rows × 106 columns</p>\n",
       "</div>"
      ],
      "text/plain": [
       "         Unnamed: 0      id        f0        f1         f2        f3  \\\n",
       "0                 0       0  0.106628  3.593750   132.7500  3.183594   \n",
       "1                 1       1  0.125000  1.673828    76.5625  3.378906   \n",
       "2                 2       2  0.036316  1.497070   233.5000  2.195312   \n",
       "3                 3       3 -0.014076  0.245972   780.0000  1.890625   \n",
       "4                 4       4 -0.003260  3.714844   156.1250  2.148438   \n",
       "...             ...     ...       ...       ...        ...       ...   \n",
       "2999995      599995  599995  0.042999  1.640625  1376.0000  1.086914   \n",
       "2999996      599996  599996  0.137085  4.828125   -99.6250  0.985352   \n",
       "2999997      599997  599997  1.316406  0.501953    66.2500  2.232422   \n",
       "2999998      599998  599998  0.511719  3.828125   778.0000  0.285889   \n",
       "2999999      599999  599999  0.179321  3.457031   160.6250  3.296875   \n",
       "\n",
       "               f4        f5        f6        f7  ...       f94       f95  \\\n",
       "0        0.081970  1.188477  3.732422  2.265625  ...  0.052765  0.065430   \n",
       "1        0.099426  5.093750  1.275391 -0.471436  ...  0.154053  0.606934   \n",
       "2        0.026917  3.126953  5.058594  3.849609  ...  0.116089 -0.001689   \n",
       "3        0.006947  1.531250  2.697266  4.515625  ...  0.062012  0.041199   \n",
       "4        0.018280  2.097656  4.156250 -0.038239  ...  0.125122  0.037506   \n",
       "...           ...       ...       ...       ...  ...       ...       ...   \n",
       "2999995  0.839355  1.693359  3.843750  1.108398  ...  0.225098  0.073181   \n",
       "2999996  0.037720  3.302734  2.472656  5.941406  ...  0.234009  0.041382   \n",
       "2999997  0.060028  3.773438  2.656250  3.156250  ...  0.027466  0.061920   \n",
       "2999998  0.520020  2.763672  2.521484  1.561523  ... -0.038086  0.038818   \n",
       "2999999  0.102783  1.894531  0.057861  2.074219  ...  1.059570  0.007641   \n",
       "\n",
       "              f96       f97       f98       f99  target  nueva_variable  \\\n",
       "0        4.210938  1.978516  0.085999  0.240479       0        1.606445   \n",
       "1       -0.267822  2.578125 -0.020874  0.024719       0        1.365234   \n",
       "2       -0.520020  2.140625  0.124451  0.148193       0        0.637695   \n",
       "3        0.511719  1.968750  0.040009  0.044861       0        0.151367   \n",
       "4        1.043945  1.075195 -0.012817  0.072815       1        1.322266   \n",
       "...           ...       ...       ...       ...     ...             ...   \n",
       "2999995  4.437500  1.739258  0.049042  0.065796       1        0.182739   \n",
       "2999996  3.873047  1.870117  0.162354  0.085632       0        1.477539   \n",
       "2999997 -0.383301  0.921875  0.084839  0.052643       0        0.651855   \n",
       "2999998 -0.122864  3.107422  0.061340  0.004177       1        0.474121   \n",
       "2999999  3.732422  1.964844  0.049072  0.044434       1        1.526367   \n",
       "\n",
       "         nueva_variable_np  nueva_variable_list  \n",
       "0                 1.606445             1.606445  \n",
       "1                 1.365234             1.365234  \n",
       "2                 0.637695             0.637695  \n",
       "3                 0.151367             0.151367  \n",
       "4                 1.322266             1.322266  \n",
       "...                    ...                  ...  \n",
       "2999995           0.182739             0.182739  \n",
       "2999996           1.477539             1.477539  \n",
       "2999997           0.651855             0.651855  \n",
       "2999998           0.474121             0.474121  \n",
       "2999999           1.526367             1.526367  \n",
       "\n",
       "[3000000 rows x 106 columns]"
      ]
     },
     "execution_count": 21,
     "metadata": {},
     "output_type": "execute_result"
    }
   ],
   "source": [
    "reduciendo_uso_memoria(pandas_df)"
   ]
  },
  {
   "cell_type": "markdown",
   "id": "wrapped-crack",
   "metadata": {},
   "source": [
    "## Guardando en CSV"
   ]
  },
  {
   "cell_type": "code",
   "execution_count": 22,
   "id": "pleasant-mining",
   "metadata": {},
   "outputs": [],
   "source": [
    "FILENAME_SAVE_CSV = 'D:/10_PUBLICACIONES/publicaciones/Trucos_pandas/final.csv'\n",
    "FILENAME_SAVE_FEATHER = 'D:/10_PUBLICACIONES/publicaciones/Trucos_pandas/final.feather'\n",
    "FILENAME_SAVE_PICKLE = 'D:/10_PUBLICACIONES/publicaciones/Trucos_pandas/final.pkl'"
   ]
  },
  {
   "cell_type": "code",
   "execution_count": 23,
   "id": "cleared-yemen",
   "metadata": {},
   "outputs": [
    {
     "name": "stdout",
     "output_type": "stream",
     "text": [
      "Wall time: 3min 52s\n"
     ]
    }
   ],
   "source": [
    "%%time\n",
    "pandas_df.to_csv(FILENAME_SAVE_CSV, index=False)"
   ]
  },
  {
   "cell_type": "code",
   "execution_count": 24,
   "id": "alien-chapter",
   "metadata": {},
   "outputs": [
    {
     "name": "stdout",
     "output_type": "stream",
     "text": [
      "Wall time: 559 ms\n"
     ]
    }
   ],
   "source": [
    "%%time\n",
    "pandas_df.to_feather(FILENAME_SAVE_FEATHER)"
   ]
  },
  {
   "cell_type": "code",
   "execution_count": 25,
   "id": "following-rabbit",
   "metadata": {},
   "outputs": [
    {
     "name": "stdout",
     "output_type": "stream",
     "text": [
      "Wall time: 7.12 s\n"
     ]
    }
   ],
   "source": [
    "%%time\n",
    "pandas_df.to_pickle(FILENAME_SAVE_PICKLE)"
   ]
  },
  {
   "cell_type": "code",
   "execution_count": null,
   "id": "lucky-firewall",
   "metadata": {},
   "outputs": [],
   "source": []
  }
 ],
 "metadata": {
  "kernelspec": {
   "display_name": "Python 3",
   "language": "python",
   "name": "python3"
  },
  "language_info": {
   "codemirror_mode": {
    "name": "ipython",
    "version": 3
   },
   "file_extension": ".py",
   "mimetype": "text/x-python",
   "name": "python",
   "nbconvert_exporter": "python",
   "pygments_lexer": "ipython3",
   "version": "3.7.7"
  }
 },
 "nbformat": 4,
 "nbformat_minor": 5
}
